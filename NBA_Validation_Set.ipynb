{
  "nbformat": 4,
  "nbformat_minor": 0,
  "metadata": {
    "colab": {
      "provenance": []
    },
    "kernelspec": {
      "name": "python3",
      "display_name": "Python 3"
    },
    "language_info": {
      "name": "python"
    }
  },
  "cells": [
    {
      "cell_type": "markdown",
      "source": [
        "### Importing the libraries"
      ],
      "metadata": {
        "id": "u1eoWdLFSJoe"
      }
    },
    {
      "cell_type": "code",
      "execution_count": null,
      "metadata": {
        "id": "kVdZxeRi0s6T"
      },
      "outputs": [],
      "source": [
        "import numpy as np\n",
        "import matplotlib.pyplot as plt\n",
        "import pandas as pd "
      ]
    },
    {
      "cell_type": "markdown",
      "source": [
        "### Loading the testing set"
      ],
      "metadata": {
        "id": "_ts-QQqISRPL"
      }
    },
    {
      "cell_type": "code",
      "source": [
        "df = pd.read_csv('Train_data.csv')\n",
        "X = df.iloc[:, :-1].values\n",
        "y = df.iloc[:, -1].values"
      ],
      "metadata": {
        "id": "fH-TSAao0ycT"
      },
      "execution_count": null,
      "outputs": []
    },
    {
      "cell_type": "code",
      "source": [
        "df.head(10)"
      ],
      "metadata": {
        "colab": {
          "base_uri": "https://localhost:8080/",
          "height": 427
        },
        "id": "cbEPbsjW05eI",
        "outputId": "9281029c-62b1-444b-c0e8-7fa5c0baf714"
      },
      "execution_count": null,
      "outputs": [
        {
          "output_type": "execute_result",
          "data": {
            "text/plain": [
              "          GP        MIN        PTS       FGM        FGA        FG%   3P Made  \\\n",
              "0  59.000000  12.800000   3.400000  1.300000   2.600000  51.000000  0.200000   \n",
              "1  31.000000  10.700000   3.400000  1.200000   3.300000  35.300000  0.500000   \n",
              "2  48.000000   9.300000   4.500000  1.700000   3.400000  49.700000  0.000000   \n",
              "3  80.000000  27.700000  11.200000  3.500000   9.400000  37.400000  1.300000   \n",
              "4  58.000000  18.400000   5.800000  1.900000   5.300000  36.700000  0.000000   \n",
              "5  50.458515  16.178170   5.199565  1.979040   5.237119  38.467247  0.416594   \n",
              "6  50.000000  36.100000  12.800000  4.600000  12.300000  37.400000  2.000000   \n",
              "7  81.000000  25.100000  10.000000  3.800000   8.000000  48.100000  0.000000   \n",
              "8  79.000000  20.200000   6.700000  2.400000   5.400000  44.200000  0.300000   \n",
              "9  25.024069   9.244566   1.907221  0.837345   1.974690  40.545731  0.000000   \n",
              "\n",
              "        3PA        3P%       FTM       FTA        FT%      OREB      DREB  \\\n",
              "0  0.300000  50.000000  0.700000  0.800000  78.000000  1.100000  2.300000   \n",
              "1  2.100000  25.800000  0.500000  0.900000  55.200000  0.300000  1.100000   \n",
              "2  0.100000   0.000000  1.200000  1.900000  61.500000  0.400000  0.800000   \n",
              "3  4.100000  32.900000  2.800000  3.300000  85.000000  0.800000  1.600000   \n",
              "4  0.100000  25.000000  1.900000  3.100000  61.700000  0.500000  0.700000   \n",
              "5  1.195634  34.858949  0.779040  0.987337  77.387337  0.491703  1.337554   \n",
              "6  6.500000  31.000000  1.600000  2.100000  75.200000  0.300000  2.800000   \n",
              "7  0.100000  11.100000  2.300000  2.700000  86.600000  1.600000  2.100000   \n",
              "8  1.000000  26.300000  1.600000  2.000000  80.000000  0.200000  1.800000   \n",
              "9  0.000000   0.000000  0.265062  0.630124  48.373448  0.565062  1.569876   \n",
              "\n",
              "        REB       AST      STL       BLK       TOV  Target  \n",
              "0  3.300000  0.500000  0.30000  0.400000  0.500000       1  \n",
              "1  1.400000  0.400000  0.30000  0.100000  0.200000       0  \n",
              "2  1.200000  0.800000  0.50000  0.400000  1.000000       0  \n",
              "3  2.400000  3.900000  1.30000  0.100000  2.200000       1  \n",
              "4  1.200000  1.900000  1.10000  0.200000  1.700000       0  \n",
              "5  1.829257  1.937119  0.67904  0.091703  0.916594       0  \n",
              "6  3.100000  6.000000  1.90000  0.000000  2.900000       1  \n",
              "7  3.700000  1.900000  0.60000  0.200000  1.400000       1  \n",
              "8  2.000000  2.800000  0.50000  0.000000  1.300000       1  \n",
              "9  2.134938  0.297593  0.10000  0.637345  0.430124       0  "
            ],
            "text/html": [
              "\n",
              "  <div id=\"df-bce3dac2-2cc9-4612-bc9a-a6ee1228fd47\">\n",
              "    <div class=\"colab-df-container\">\n",
              "      <div>\n",
              "<style scoped>\n",
              "    .dataframe tbody tr th:only-of-type {\n",
              "        vertical-align: middle;\n",
              "    }\n",
              "\n",
              "    .dataframe tbody tr th {\n",
              "        vertical-align: top;\n",
              "    }\n",
              "\n",
              "    .dataframe thead th {\n",
              "        text-align: right;\n",
              "    }\n",
              "</style>\n",
              "<table border=\"1\" class=\"dataframe\">\n",
              "  <thead>\n",
              "    <tr style=\"text-align: right;\">\n",
              "      <th></th>\n",
              "      <th>GP</th>\n",
              "      <th>MIN</th>\n",
              "      <th>PTS</th>\n",
              "      <th>FGM</th>\n",
              "      <th>FGA</th>\n",
              "      <th>FG%</th>\n",
              "      <th>3P Made</th>\n",
              "      <th>3PA</th>\n",
              "      <th>3P%</th>\n",
              "      <th>FTM</th>\n",
              "      <th>FTA</th>\n",
              "      <th>FT%</th>\n",
              "      <th>OREB</th>\n",
              "      <th>DREB</th>\n",
              "      <th>REB</th>\n",
              "      <th>AST</th>\n",
              "      <th>STL</th>\n",
              "      <th>BLK</th>\n",
              "      <th>TOV</th>\n",
              "      <th>Target</th>\n",
              "    </tr>\n",
              "  </thead>\n",
              "  <tbody>\n",
              "    <tr>\n",
              "      <th>0</th>\n",
              "      <td>59.000000</td>\n",
              "      <td>12.800000</td>\n",
              "      <td>3.400000</td>\n",
              "      <td>1.300000</td>\n",
              "      <td>2.600000</td>\n",
              "      <td>51.000000</td>\n",
              "      <td>0.200000</td>\n",
              "      <td>0.300000</td>\n",
              "      <td>50.000000</td>\n",
              "      <td>0.700000</td>\n",
              "      <td>0.800000</td>\n",
              "      <td>78.000000</td>\n",
              "      <td>1.100000</td>\n",
              "      <td>2.300000</td>\n",
              "      <td>3.300000</td>\n",
              "      <td>0.500000</td>\n",
              "      <td>0.30000</td>\n",
              "      <td>0.400000</td>\n",
              "      <td>0.500000</td>\n",
              "      <td>1</td>\n",
              "    </tr>\n",
              "    <tr>\n",
              "      <th>1</th>\n",
              "      <td>31.000000</td>\n",
              "      <td>10.700000</td>\n",
              "      <td>3.400000</td>\n",
              "      <td>1.200000</td>\n",
              "      <td>3.300000</td>\n",
              "      <td>35.300000</td>\n",
              "      <td>0.500000</td>\n",
              "      <td>2.100000</td>\n",
              "      <td>25.800000</td>\n",
              "      <td>0.500000</td>\n",
              "      <td>0.900000</td>\n",
              "      <td>55.200000</td>\n",
              "      <td>0.300000</td>\n",
              "      <td>1.100000</td>\n",
              "      <td>1.400000</td>\n",
              "      <td>0.400000</td>\n",
              "      <td>0.30000</td>\n",
              "      <td>0.100000</td>\n",
              "      <td>0.200000</td>\n",
              "      <td>0</td>\n",
              "    </tr>\n",
              "    <tr>\n",
              "      <th>2</th>\n",
              "      <td>48.000000</td>\n",
              "      <td>9.300000</td>\n",
              "      <td>4.500000</td>\n",
              "      <td>1.700000</td>\n",
              "      <td>3.400000</td>\n",
              "      <td>49.700000</td>\n",
              "      <td>0.000000</td>\n",
              "      <td>0.100000</td>\n",
              "      <td>0.000000</td>\n",
              "      <td>1.200000</td>\n",
              "      <td>1.900000</td>\n",
              "      <td>61.500000</td>\n",
              "      <td>0.400000</td>\n",
              "      <td>0.800000</td>\n",
              "      <td>1.200000</td>\n",
              "      <td>0.800000</td>\n",
              "      <td>0.50000</td>\n",
              "      <td>0.400000</td>\n",
              "      <td>1.000000</td>\n",
              "      <td>0</td>\n",
              "    </tr>\n",
              "    <tr>\n",
              "      <th>3</th>\n",
              "      <td>80.000000</td>\n",
              "      <td>27.700000</td>\n",
              "      <td>11.200000</td>\n",
              "      <td>3.500000</td>\n",
              "      <td>9.400000</td>\n",
              "      <td>37.400000</td>\n",
              "      <td>1.300000</td>\n",
              "      <td>4.100000</td>\n",
              "      <td>32.900000</td>\n",
              "      <td>2.800000</td>\n",
              "      <td>3.300000</td>\n",
              "      <td>85.000000</td>\n",
              "      <td>0.800000</td>\n",
              "      <td>1.600000</td>\n",
              "      <td>2.400000</td>\n",
              "      <td>3.900000</td>\n",
              "      <td>1.30000</td>\n",
              "      <td>0.100000</td>\n",
              "      <td>2.200000</td>\n",
              "      <td>1</td>\n",
              "    </tr>\n",
              "    <tr>\n",
              "      <th>4</th>\n",
              "      <td>58.000000</td>\n",
              "      <td>18.400000</td>\n",
              "      <td>5.800000</td>\n",
              "      <td>1.900000</td>\n",
              "      <td>5.300000</td>\n",
              "      <td>36.700000</td>\n",
              "      <td>0.000000</td>\n",
              "      <td>0.100000</td>\n",
              "      <td>25.000000</td>\n",
              "      <td>1.900000</td>\n",
              "      <td>3.100000</td>\n",
              "      <td>61.700000</td>\n",
              "      <td>0.500000</td>\n",
              "      <td>0.700000</td>\n",
              "      <td>1.200000</td>\n",
              "      <td>1.900000</td>\n",
              "      <td>1.10000</td>\n",
              "      <td>0.200000</td>\n",
              "      <td>1.700000</td>\n",
              "      <td>0</td>\n",
              "    </tr>\n",
              "    <tr>\n",
              "      <th>5</th>\n",
              "      <td>50.458515</td>\n",
              "      <td>16.178170</td>\n",
              "      <td>5.199565</td>\n",
              "      <td>1.979040</td>\n",
              "      <td>5.237119</td>\n",
              "      <td>38.467247</td>\n",
              "      <td>0.416594</td>\n",
              "      <td>1.195634</td>\n",
              "      <td>34.858949</td>\n",
              "      <td>0.779040</td>\n",
              "      <td>0.987337</td>\n",
              "      <td>77.387337</td>\n",
              "      <td>0.491703</td>\n",
              "      <td>1.337554</td>\n",
              "      <td>1.829257</td>\n",
              "      <td>1.937119</td>\n",
              "      <td>0.67904</td>\n",
              "      <td>0.091703</td>\n",
              "      <td>0.916594</td>\n",
              "      <td>0</td>\n",
              "    </tr>\n",
              "    <tr>\n",
              "      <th>6</th>\n",
              "      <td>50.000000</td>\n",
              "      <td>36.100000</td>\n",
              "      <td>12.800000</td>\n",
              "      <td>4.600000</td>\n",
              "      <td>12.300000</td>\n",
              "      <td>37.400000</td>\n",
              "      <td>2.000000</td>\n",
              "      <td>6.500000</td>\n",
              "      <td>31.000000</td>\n",
              "      <td>1.600000</td>\n",
              "      <td>2.100000</td>\n",
              "      <td>75.200000</td>\n",
              "      <td>0.300000</td>\n",
              "      <td>2.800000</td>\n",
              "      <td>3.100000</td>\n",
              "      <td>6.000000</td>\n",
              "      <td>1.90000</td>\n",
              "      <td>0.000000</td>\n",
              "      <td>2.900000</td>\n",
              "      <td>1</td>\n",
              "    </tr>\n",
              "    <tr>\n",
              "      <th>7</th>\n",
              "      <td>81.000000</td>\n",
              "      <td>25.100000</td>\n",
              "      <td>10.000000</td>\n",
              "      <td>3.800000</td>\n",
              "      <td>8.000000</td>\n",
              "      <td>48.100000</td>\n",
              "      <td>0.000000</td>\n",
              "      <td>0.100000</td>\n",
              "      <td>11.100000</td>\n",
              "      <td>2.300000</td>\n",
              "      <td>2.700000</td>\n",
              "      <td>86.600000</td>\n",
              "      <td>1.600000</td>\n",
              "      <td>2.100000</td>\n",
              "      <td>3.700000</td>\n",
              "      <td>1.900000</td>\n",
              "      <td>0.60000</td>\n",
              "      <td>0.200000</td>\n",
              "      <td>1.400000</td>\n",
              "      <td>1</td>\n",
              "    </tr>\n",
              "    <tr>\n",
              "      <th>8</th>\n",
              "      <td>79.000000</td>\n",
              "      <td>20.200000</td>\n",
              "      <td>6.700000</td>\n",
              "      <td>2.400000</td>\n",
              "      <td>5.400000</td>\n",
              "      <td>44.200000</td>\n",
              "      <td>0.300000</td>\n",
              "      <td>1.000000</td>\n",
              "      <td>26.300000</td>\n",
              "      <td>1.600000</td>\n",
              "      <td>2.000000</td>\n",
              "      <td>80.000000</td>\n",
              "      <td>0.200000</td>\n",
              "      <td>1.800000</td>\n",
              "      <td>2.000000</td>\n",
              "      <td>2.800000</td>\n",
              "      <td>0.50000</td>\n",
              "      <td>0.000000</td>\n",
              "      <td>1.300000</td>\n",
              "      <td>1</td>\n",
              "    </tr>\n",
              "    <tr>\n",
              "      <th>9</th>\n",
              "      <td>25.024069</td>\n",
              "      <td>9.244566</td>\n",
              "      <td>1.907221</td>\n",
              "      <td>0.837345</td>\n",
              "      <td>1.974690</td>\n",
              "      <td>40.545731</td>\n",
              "      <td>0.000000</td>\n",
              "      <td>0.000000</td>\n",
              "      <td>0.000000</td>\n",
              "      <td>0.265062</td>\n",
              "      <td>0.630124</td>\n",
              "      <td>48.373448</td>\n",
              "      <td>0.565062</td>\n",
              "      <td>1.569876</td>\n",
              "      <td>2.134938</td>\n",
              "      <td>0.297593</td>\n",
              "      <td>0.10000</td>\n",
              "      <td>0.637345</td>\n",
              "      <td>0.430124</td>\n",
              "      <td>0</td>\n",
              "    </tr>\n",
              "  </tbody>\n",
              "</table>\n",
              "</div>\n",
              "      <button class=\"colab-df-convert\" onclick=\"convertToInteractive('df-bce3dac2-2cc9-4612-bc9a-a6ee1228fd47')\"\n",
              "              title=\"Convert this dataframe to an interactive table.\"\n",
              "              style=\"display:none;\">\n",
              "        \n",
              "  <svg xmlns=\"http://www.w3.org/2000/svg\" height=\"24px\"viewBox=\"0 0 24 24\"\n",
              "       width=\"24px\">\n",
              "    <path d=\"M0 0h24v24H0V0z\" fill=\"none\"/>\n",
              "    <path d=\"M18.56 5.44l.94 2.06.94-2.06 2.06-.94-2.06-.94-.94-2.06-.94 2.06-2.06.94zm-11 1L8.5 8.5l.94-2.06 2.06-.94-2.06-.94L8.5 2.5l-.94 2.06-2.06.94zm10 10l.94 2.06.94-2.06 2.06-.94-2.06-.94-.94-2.06-.94 2.06-2.06.94z\"/><path d=\"M17.41 7.96l-1.37-1.37c-.4-.4-.92-.59-1.43-.59-.52 0-1.04.2-1.43.59L10.3 9.45l-7.72 7.72c-.78.78-.78 2.05 0 2.83L4 21.41c.39.39.9.59 1.41.59.51 0 1.02-.2 1.41-.59l7.78-7.78 2.81-2.81c.8-.78.8-2.07 0-2.86zM5.41 20L4 18.59l7.72-7.72 1.47 1.35L5.41 20z\"/>\n",
              "  </svg>\n",
              "      </button>\n",
              "      \n",
              "  <style>\n",
              "    .colab-df-container {\n",
              "      display:flex;\n",
              "      flex-wrap:wrap;\n",
              "      gap: 12px;\n",
              "    }\n",
              "\n",
              "    .colab-df-convert {\n",
              "      background-color: #E8F0FE;\n",
              "      border: none;\n",
              "      border-radius: 50%;\n",
              "      cursor: pointer;\n",
              "      display: none;\n",
              "      fill: #1967D2;\n",
              "      height: 32px;\n",
              "      padding: 0 0 0 0;\n",
              "      width: 32px;\n",
              "    }\n",
              "\n",
              "    .colab-df-convert:hover {\n",
              "      background-color: #E2EBFA;\n",
              "      box-shadow: 0px 1px 2px rgba(60, 64, 67, 0.3), 0px 1px 3px 1px rgba(60, 64, 67, 0.15);\n",
              "      fill: #174EA6;\n",
              "    }\n",
              "\n",
              "    [theme=dark] .colab-df-convert {\n",
              "      background-color: #3B4455;\n",
              "      fill: #D2E3FC;\n",
              "    }\n",
              "\n",
              "    [theme=dark] .colab-df-convert:hover {\n",
              "      background-color: #434B5C;\n",
              "      box-shadow: 0px 1px 3px 1px rgba(0, 0, 0, 0.15);\n",
              "      filter: drop-shadow(0px 1px 2px rgba(0, 0, 0, 0.3));\n",
              "      fill: #FFFFFF;\n",
              "    }\n",
              "  </style>\n",
              "\n",
              "      <script>\n",
              "        const buttonEl =\n",
              "          document.querySelector('#df-bce3dac2-2cc9-4612-bc9a-a6ee1228fd47 button.colab-df-convert');\n",
              "        buttonEl.style.display =\n",
              "          google.colab.kernel.accessAllowed ? 'block' : 'none';\n",
              "\n",
              "        async function convertToInteractive(key) {\n",
              "          const element = document.querySelector('#df-bce3dac2-2cc9-4612-bc9a-a6ee1228fd47');\n",
              "          const dataTable =\n",
              "            await google.colab.kernel.invokeFunction('convertToInteractive',\n",
              "                                                     [key], {});\n",
              "          if (!dataTable) return;\n",
              "\n",
              "          const docLinkHtml = 'Like what you see? Visit the ' +\n",
              "            '<a target=\"_blank\" href=https://colab.research.google.com/notebooks/data_table.ipynb>data table notebook</a>'\n",
              "            + ' to learn more about interactive tables.';\n",
              "          element.innerHTML = '';\n",
              "          dataTable['output_type'] = 'display_data';\n",
              "          await google.colab.output.renderOutput(dataTable, element);\n",
              "          const docLink = document.createElement('div');\n",
              "          docLink.innerHTML = docLinkHtml;\n",
              "          element.appendChild(docLink);\n",
              "        }\n",
              "      </script>\n",
              "    </div>\n",
              "  </div>\n",
              "  "
            ]
          },
          "metadata": {},
          "execution_count": 5
        }
      ]
    },
    {
      "cell_type": "markdown",
      "source": [
        "## Splitting into training & testing set"
      ],
      "metadata": {
        "id": "P2dX1elMScER"
      }
    },
    {
      "cell_type": "code",
      "source": [
        "from sklearn.model_selection import train_test_split\n",
        "X_train, X_test, y_train, y_test = train_test_split(X, y, test_size = 0.3, random_state = 1)"
      ],
      "metadata": {
        "id": "eUV5jm3g1Ded"
      },
      "execution_count": null,
      "outputs": []
    },
    {
      "cell_type": "markdown",
      "source": [
        "## Feature Scaling"
      ],
      "metadata": {
        "id": "6S35lJAvShqv"
      }
    },
    {
      "cell_type": "code",
      "source": [
        "from sklearn.preprocessing import StandardScaler\n",
        "sc = StandardScaler()\n",
        "X_train = sc.fit_transform(X_train)\n",
        "X_test = sc.transform(X_test)"
      ],
      "metadata": {
        "id": "i9cekGPe1rXK"
      },
      "execution_count": null,
      "outputs": []
    },
    {
      "cell_type": "markdown",
      "source": [
        "## Modeling using different models"
      ],
      "metadata": {
        "id": "xPUCN_geS7uk"
      }
    },
    {
      "cell_type": "code",
      "source": [
        "# Logistic Regression\n",
        "# from sklearn.linear_model import LogisticRegression\n",
        "# classifier = LogisticRegression(random_state = 0)\n",
        "# classifier.fit(X_train, y_train)\n",
        "\n",
        "# K-NN \n",
        "# from sklearn.neighbors import KNeighborsClassifier\n",
        "# classifier = KNeighborsClassifier(n_neighbors = 5, metric = 'minkowski', p = 2)\n",
        "# classifier.fit(X_train, y_train)\n",
        "\n",
        "# SVM \n",
        "from sklearn.svm import SVC\n",
        "classifier = SVC(kernel = 'linear', random_state = 0)\n",
        "classifier.fit(X_train, y_train)\n",
        "\n",
        "# from sklearn.model_selection import GridSearchCV\n",
        "# param_grid = {'C': [0.1,1,100,1000], 'kernel': ['rbf', 'poly', 'sigmoid', 'linear'], 'degree': [1,2,3,4,5,6]}\n",
        "# grid = GridSearchCV(SVC(), param_grid)\n",
        "# grid.fit(X_train, y_train)\n",
        "\n",
        "# Kernel SVM \n",
        "# from sklearn.svm import SVC\n",
        "# classifier = SVC(kernel = 'rbf', random_state = 0)\n",
        "# classifier.fit(X_train, y_train)\n",
        "\n",
        "# Naive Bayes\n",
        "# from sklearn.naive_bayes import GaussianNB\n",
        "# classifier = GaussianNB()\n",
        "# classifier.fit(X_train, y_train)\n",
        "\n",
        "# Decision Tree\n",
        "# from sklearn.tree import DecisionTreeClassifier\n",
        "# classifier = DecisionTreeClassifier(criterion = 'entropy', random_state = 0)\n",
        "# classifier.fit(X_train, y_train)\n",
        "\n",
        "# # Random Forest\n",
        "# from sklearn.ensemble import RandomForestClassifier\n",
        "# classifier = RandomForestClassifier(n_estimators = 10, criterion = 'entropy', random_state = 0)\n",
        "# classifier.fit(X_train, y_train)"
      ],
      "metadata": {
        "colab": {
          "base_uri": "https://localhost:8080/"
        },
        "id": "TqwHpHjg1vSs",
        "outputId": "04b2f8f5-9fa4-4efd-c4c7-60bed190317c"
      },
      "execution_count": null,
      "outputs": [
        {
          "output_type": "execute_result",
          "data": {
            "text/plain": [
              "SVC(kernel='linear', random_state=0)"
            ]
          },
          "metadata": {},
          "execution_count": 8
        }
      ]
    },
    {
      "cell_type": "code",
      "source": [
        "# print(grid.best_params_)\n",
        "# print(grid.score(X_test, y_test))\n",
        "y_pred = classifier.predict(X_test)"
      ],
      "metadata": {
        "id": "hcCAedNC1xsR"
      },
      "execution_count": null,
      "outputs": []
    },
    {
      "cell_type": "code",
      "source": [
        "print(y_pred)"
      ],
      "metadata": {
        "colab": {
          "base_uri": "https://localhost:8080/"
        },
        "id": "URo0EPm210zU",
        "outputId": "9e7897bf-baa1-4ce7-ae4b-50a74aa0d7c5"
      },
      "execution_count": null,
      "outputs": [
        {
          "output_type": "stream",
          "name": "stdout",
          "text": [
            "[0 0 0 0 0 1 0 0 1 1 0 0 0 0 1 0 1 0 0 1 0 1 0 0 1 1 0 1 0 1 1 0 1 1 0 1 0\n",
            " 1 1 1 0 1 0 1 0 0 1 1 0 0 1 0 0 1 1 1 1 1 0 0 0 1 1 1 1 1 0 1 0 1 1 1 0 0\n",
            " 0 1 0 0 0 0 0 1 1 0 1 0 1 0 1 0 0 0 0 1 1 1 0 0 1 0 1 0 0 1 1 1 0 1 1 1 1\n",
            " 1 0 1 0 1 0 1 0 0 0 1 0 1 0 1 0 0 0 1 0 1 0 0 1 0 0 1 0 0 1 1 1 0 0 0 1 0\n",
            " 0 0 1 1 1 0 0 1 1 1 1 1 0 1 1 0 1 0 0 0 0 0 0 0 0 1 1 0 1 0 0 0 0 0 0 0 1\n",
            " 0 0 1 0 0 0 0 1 0 1 1 1 0 1 0 0 0 0 0 1 1 0 1 1 0 1 1 1 1 0 0 0 1 1 1 1 0\n",
            " 1 1 1 1 0 0 0 1 0 0 0 0 1 0 0 0 1 0 0 0 0 0 0 0 1 0 1 0 0 0 1 0 1 0 0 1 0\n",
            " 0 0 1 0 1 1 0 1 0 1 0 0 0 0 0 0 0 0 1 0 0 0 1 1 1 1 1 0 0 0 0 1 1 0 0 0 0\n",
            " 0 1 1 0 1 0 1 1 1 1 1 1 1 0 0 0 0 0 0 1 0 1 0 1 0 1 1 1 0 0 1 1 1 1 1]\n"
          ]
        }
      ]
    },
    {
      "cell_type": "markdown",
      "source": [
        "## Checking accuracy score"
      ],
      "metadata": {
        "id": "fL3vuWF8TDNH"
      }
    },
    {
      "cell_type": "code",
      "source": [
        "from sklearn.metrics import confusion_matrix, accuracy_score\n",
        "cm = confusion_matrix(y_test, y_pred)\n",
        "print(cm)\n",
        "accuracy_score(y_test, y_pred)"
      ],
      "metadata": {
        "colab": {
          "base_uri": "https://localhost:8080/"
        },
        "id": "By6w9Yyw2ByQ",
        "outputId": "b60fbf7d-cb29-4abc-a48f-a70673e4adfa"
      },
      "execution_count": null,
      "outputs": [
        {
          "output_type": "stream",
          "name": "stdout",
          "text": [
            "[[131  47]\n",
            " [ 51 102]]\n"
          ]
        },
        {
          "output_type": "execute_result",
          "data": {
            "text/plain": [
              "0.7039274924471299"
            ]
          },
          "metadata": {},
          "execution_count": 11
        }
      ]
    },
    {
      "cell_type": "markdown",
      "source": [
        "## Hyperparameter tuning using Grid Search Cross Validation"
      ],
      "metadata": {
        "id": "rZhq0MWATIUo"
      }
    },
    {
      "cell_type": "code",
      "source": [
        "from sklearn.model_selection import GridSearchCV\n",
        "parameters = [{'C': [1, 10, 100, 1000], 'kernel': ['linear']},\n",
        "              {'C': [1, 10, 100, 1000], 'kernel': ['rbf'], 'gamma': [0.1, 0.2, 0.3, 0.4, 0.5, 0.6, 0.7, 0.8, 0.9]}]\n",
        "grid_search = GridSearchCV(estimator = classifier,\n",
        "                           param_grid = parameters,\n",
        "                           scoring = 'accuracy',\n",
        "                           cv = 10,\n",
        "                           n_jobs = -1)\n",
        "grid_search = grid_search.fit(X_train, y_train)\n",
        "\n",
        "# param_grid = {'C': [0.1,1,100,1000], 'kernel': ['rbf', 'poly', 'sigmoid', 'linear'], 'degree': [1,2,3,4,5,6]}\n",
        "# grid = GridSearchCV(SVC(), param_grid)\n",
        "# grid.fit(X_train, y_train)\n"
      ],
      "metadata": {
        "id": "lZDV1ouxXZts"
      },
      "execution_count": null,
      "outputs": []
    },
    {
      "cell_type": "code",
      "source": [
        "accuracy = grid_search.best_score_\n",
        "# accuracy = grid.best_score_"
      ],
      "metadata": {
        "id": "UHVVnb9xXdev"
      },
      "execution_count": null,
      "outputs": []
    },
    {
      "cell_type": "code",
      "source": [
        "accuracy"
      ],
      "metadata": {
        "colab": {
          "base_uri": "https://localhost:8080/"
        },
        "id": "3Hl5TrAOXk83",
        "outputId": "d24b6803-30f8-4962-8380-9363ab7b3729"
      },
      "execution_count": null,
      "outputs": [
        {
          "output_type": "execute_result",
          "data": {
            "text/plain": [
              "0.7285714285714285"
            ]
          },
          "metadata": {},
          "execution_count": 15
        }
      ]
    },
    {
      "cell_type": "code",
      "source": [
        "grid_search.best_params_ \n",
        "# grid.best_params_ "
      ],
      "metadata": {
        "colab": {
          "base_uri": "https://localhost:8080/"
        },
        "id": "JWyNjmGLXnKS",
        "outputId": "d1e4e9a3-4c22-465e-9dca-adf26066cdda"
      },
      "execution_count": null,
      "outputs": [
        {
          "output_type": "execute_result",
          "data": {
            "text/plain": [
              "{'C': 1000, 'gamma': 0.5, 'kernel': 'rbf'}"
            ]
          },
          "metadata": {},
          "execution_count": 16
        }
      ]
    },
    {
      "cell_type": "markdown",
      "source": [
        "## Using the best params on SVC"
      ],
      "metadata": {
        "id": "8oyX_EhDTTQc"
      }
    },
    {
      "cell_type": "code",
      "source": [
        " classifier = SVC(kernel = 'rbf', gamma=0.5, C = 1000)\n",
        "classifier.fit(X_train, y_train)"
      ],
      "metadata": {
        "colab": {
          "base_uri": "https://localhost:8080/"
        },
        "id": "QsvJs64gYNiH",
        "outputId": "33e239d1-3648-4414-d9dc-68f190102cb8"
      },
      "execution_count": null,
      "outputs": [
        {
          "output_type": "execute_result",
          "data": {
            "text/plain": [
              "SVC(C=1000, gamma=0.5)"
            ]
          },
          "metadata": {},
          "execution_count": 17
        }
      ]
    },
    {
      "cell_type": "code",
      "source": [
        "y_pred = classifier.predict(X_test)"
      ],
      "metadata": {
        "id": "w8z98FFWaAeh"
      },
      "execution_count": null,
      "outputs": []
    },
    {
      "cell_type": "code",
      "source": [
        "from sklearn.metrics import confusion_matrix\n",
        "cm = confusion_matrix(y_test, y_pred)\n",
        "from sklearn.metrics import accuracy_score\n",
        "accuracy=accuracy_score(y_test,y_pred)"
      ],
      "metadata": {
        "id": "okmi1KedaDaT"
      },
      "execution_count": null,
      "outputs": []
    },
    {
      "cell_type": "code",
      "source": [
        "accuracy * 100"
      ],
      "metadata": {
        "colab": {
          "base_uri": "https://localhost:8080/"
        },
        "id": "SP9-nh3uaGVC",
        "outputId": "d3ce1ee5-70f7-49d6-cd92-40e662bcc4f6"
      },
      "execution_count": null,
      "outputs": [
        {
          "output_type": "execute_result",
          "data": {
            "text/plain": [
              "70.99697885196375"
            ]
          },
          "metadata": {},
          "execution_count": 20
        }
      ]
    }
  ]
}